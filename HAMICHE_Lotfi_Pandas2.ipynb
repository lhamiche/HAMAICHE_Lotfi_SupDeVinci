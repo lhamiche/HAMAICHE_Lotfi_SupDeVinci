{
 "cells": [
  {
   "cell_type": "markdown",
   "metadata": {},
   "source": [
    "                                     Examen d’introduction à Python/Pandas"
   ]
  },
  {
   "cell_type": "markdown",
   "metadata": {},
   "source": [
    "# 1. Bases"
   ]
  },
  {
   "cell_type": "markdown",
   "metadata": {},
   "source": [
    "1.1 Simple échange"
   ]
  },
  {
   "cell_type": "code",
   "execution_count": 10,
   "metadata": {},
   "outputs": [
    {
     "name": "stdout",
     "output_type": "stream",
     "text": [
      "Avant: x= 1 y= 4\n",
      "Apres: x= 4 y= 1\n"
     ]
    }
   ],
   "source": [
    "x,y=1,4\n",
    "print('Avant: x=',x,'y=',y)\n",
    "tmp=x\n",
    "x=y\n",
    "y=tmp\n",
    "print('Apres: x=',x,'y=',y)"
   ]
  },
  {
   "cell_type": "markdown",
   "metadata": {},
   "source": [
    "1.2 Le carré"
   ]
  },
  {
   "cell_type": "code",
   "execution_count": 32,
   "metadata": {},
   "outputs": [
    {
     "name": "stdout",
     "output_type": "stream",
     "text": [
      "Veuillez saisir un chiffre\n",
      "e\n",
      "Erreur de saisie\n"
     ]
    }
   ],
   "source": [
    "print('Veuillez saisir un nombre')\n",
    "res=input()\n",
    "if res.isdigit():\n",
    "    carre=int(res)**2\n",
    "    print(res+'²='+str(carre))\n",
    "else:\n",
    "    try:\n",
    "        carre=float(res)**2\n",
    "        print(res,'²=',carre)\n",
    "    except:\n",
    "        print('Erreur de saisie')\n",
    "    "
   ]
  },
  {
   "cell_type": "markdown",
   "metadata": {},
   "source": [
    "1.3 La condition"
   ]
  },
  {
   "cell_type": "code",
   "execution_count": 35,
   "metadata": {},
   "outputs": [
    {
     "name": "stdout",
     "output_type": "stream",
     "text": [
      "Veuillez saisir un nombre\n",
      "0\n"
     ]
    }
   ],
   "source": [
    "print('Veuillez saisir un nombre')\n",
    "res=input()\n",
    "if res.isdigit():\n",
    "    if int(res)>0:\n",
    "        print('Le nombre\"'+res+'\" est positif')\n",
    "    elif int(res) <0:\n",
    "        print('Le nombre\"'+res+'\" est neagatif')\n",
    "else:\n",
    "    try:\n",
    "        if float(res)>0:\n",
    "            print('Le nombre\"'+res+'\" est positif')\n",
    "        elif float(res) <0:\n",
    "            print('Le nombre\"'+res+'\" est neagatif')\n",
    "    except:\n",
    "        print('Erreur de saisie')"
   ]
  },
  {
   "cell_type": "markdown",
   "metadata": {},
   "source": [
    "1.4 Le produit"
   ]
  },
  {
   "cell_type": "code",
   "execution_count": 37,
   "metadata": {},
   "outputs": [
    {
     "name": "stdout",
     "output_type": "stream",
     "text": [
      "Veuillez saisir le premier nombre\n",
      "4\n",
      "4.5\n",
      "Le resultat du produit: \"18.0\" est positif\n"
     ]
    }
   ],
   "source": [
    "print('Veuillez saisir le premier nombre')\n",
    "num1=input()\n",
    "num2=input()\n",
    "if num1.isdigit() & num2.isdigit():\n",
    "    produit=int(num1)*int(num2)\n",
    "    if int(produit)>0:\n",
    "        print('Le resultat du produit: \"'+str(produit)+'\" est positif')\n",
    "    elif int(produit) <0:\n",
    "        print('Le resultat du produit: \"'+str(produit)+'\" est neagatif')\n",
    "else:\n",
    "    try:\n",
    "        produit=float(num1)*float(num2)\n",
    "        if produit>0:\n",
    "            print('Le resultat du produit: \"'+str(produit)+'\" est positif')\n",
    "        elif produit <0:\n",
    "            print('Le resultat du produit: \"'+str(produit)+'\" est neagatif')\n",
    "    except:\n",
    "        print('Erreur de saisie')"
   ]
  },
  {
   "cell_type": "markdown",
   "metadata": {},
   "source": [
    "1.5 Calcul"
   ]
  },
  {
   "cell_type": "code",
   "execution_count": 43,
   "metadata": {},
   "outputs": [
    {
     "name": "stdout",
     "output_type": "stream",
     "text": [
      "Veuillez saisir le premier nombre\n",
      "17.0\n",
      "18.0\n",
      "19.0\n",
      "20.0\n",
      "21.0\n",
      "22.0\n",
      "23.0\n",
      "24.0\n",
      "25.0\n",
      "26.0\n",
      "27.0\n"
     ]
    }
   ],
   "source": [
    "print('Veuillez saisir le premier nombre')\n",
    "num=input()\n",
    "if num.isdigit() :\n",
    "    num=int(num)\n",
    "    for i in range(10):\n",
    "        print((num+i+1))\n",
    "else:\n",
    "    try:\n",
    "        num=float(num)\n",
    "        for i in range(10):\n",
    "            print((num+i+1))\n",
    "    except:\n",
    "        print('Erreur de saisie')"
   ]
  },
  {
   "cell_type": "markdown",
   "metadata": {},
   "source": [
    "1.6 Additivité"
   ]
  },
  {
   "cell_type": "code",
   "execution_count": 48,
   "metadata": {},
   "outputs": [
    {
     "name": "stdout",
     "output_type": "stream",
     "text": [
      "Veuillez saisir le premier nombre\n",
      "5.6\n",
      "La somme est: 15\n"
     ]
    }
   ],
   "source": [
    "print('Veuillez saisir le premier nombre')\n",
    "num=input()\n",
    "res=0\n",
    "if num.isdigit() :\n",
    "    num=int(num)\n",
    "    \n",
    "    for i in range(num):\n",
    "        res+=i+1\n",
    "    print('La somme est:',res)\n",
    "else:\n",
    "    try:\n",
    "        num=float(num)\n",
    "        for i in range(int(num)):\n",
    "            res+=i+1\n",
    "        print('La somme est:',res)\n",
    "    except:\n",
    "        print('Erreur de saisie')"
   ]
  },
  {
   "cell_type": "markdown",
   "metadata": {},
   "source": [
    "# 2. Pandas"
   ]
  },
  {
   "cell_type": "markdown",
   "metadata": {},
   "source": [
    "2.1 Ouvrir et stocker un CSV"
   ]
  },
  {
   "cell_type": "code",
   "execution_count": 101,
   "metadata": {},
   "outputs": [
    {
     "name": "stdout",
     "output_type": "stream",
     "text": [
      "max ord_no ==> 70013.0\n",
      "max purch_amt ==> 5760.0\n",
      "max customer_id ==> 3005.0\n",
      "max salesman_id ==> 5007.0\n"
     ]
    }
   ],
   "source": [
    "import pandas as pd\n",
    "import numpy as np\n",
    "\n",
    "df=pd.read_csv('Pandas_exercice.csv',sep=',')\n",
    "#print(df) \n",
    "for v in df.describe().columns:\n",
    "    print('max',v,'==>',df.describe()[v]['max'])"
   ]
  },
  {
   "cell_type": "markdown",
   "metadata": {},
   "source": [
    "2.2 Grouper et afficher"
   ]
  },
  {
   "cell_type": "code",
   "execution_count": 126,
   "metadata": {},
   "outputs": [
    {
     "data": {
      "text/plain": [
       "2.0"
      ]
     },
     "execution_count": 126,
     "metadata": {},
     "output_type": "execute_result"
    }
   ],
   "source": [
    "df.groupby(['customer_id']).sum().describe()['purch_amt']['count']"
   ]
  },
  {
   "cell_type": "markdown",
   "metadata": {},
   "source": [
    "2.3 Trier et modifier"
   ]
  },
  {
   "cell_type": "code",
   "execution_count": 143,
   "metadata": {},
   "outputs": [
    {
     "data": {
      "text/html": [
       "<div>\n",
       "<style scoped>\n",
       "    .dataframe tbody tr th:only-of-type {\n",
       "        vertical-align: middle;\n",
       "    }\n",
       "\n",
       "    .dataframe tbody tr th {\n",
       "        vertical-align: top;\n",
       "    }\n",
       "\n",
       "    .dataframe thead th {\n",
       "        text-align: right;\n",
       "    }\n",
       "</style>\n",
       "<table border=\"1\" class=\"dataframe\">\n",
       "  <thead>\n",
       "    <tr style=\"text-align: right;\">\n",
       "      <th></th>\n",
       "      <th>ord_no</th>\n",
       "      <th>purch_amt</th>\n",
       "      <th>ord_date</th>\n",
       "      <th>customer_id</th>\n",
       "      <th>salesman_id</th>\n",
       "    </tr>\n",
       "  </thead>\n",
       "  <tbody>\n",
       "    <tr>\n",
       "      <th>6</th>\n",
       "      <td>70008</td>\n",
       "      <td>5760.00</td>\n",
       "      <td>10-09-2012</td>\n",
       "      <td>3005</td>\n",
       "      <td>5001</td>\n",
       "    </tr>\n",
       "    <tr>\n",
       "      <th>11</th>\n",
       "      <td>70013</td>\n",
       "      <td>3045.60</td>\n",
       "      <td>08-08-2012</td>\n",
       "      <td>3005</td>\n",
       "      <td>5001</td>\n",
       "    </tr>\n",
       "    <tr>\n",
       "      <th>8</th>\n",
       "      <td>70003</td>\n",
       "      <td>2480.40</td>\n",
       "      <td>10-10-2012</td>\n",
       "      <td>3005</td>\n",
       "      <td>5003</td>\n",
       "    </tr>\n",
       "    <tr>\n",
       "      <th>5</th>\n",
       "      <td>70005</td>\n",
       "      <td>2400.60</td>\n",
       "      <td>10-09-2012</td>\n",
       "      <td>3001</td>\n",
       "      <td>5001</td>\n",
       "    </tr>\n",
       "    <tr>\n",
       "      <th>7</th>\n",
       "      <td>70010</td>\n",
       "      <td>1983.43</td>\n",
       "      <td>10-10-2012</td>\n",
       "      <td>3001</td>\n",
       "      <td>5006</td>\n",
       "    </tr>\n",
       "    <tr>\n",
       "      <th>4</th>\n",
       "      <td>70007</td>\n",
       "      <td>948.50</td>\n",
       "      <td>10-09-2012</td>\n",
       "      <td>3005</td>\n",
       "      <td>5002</td>\n",
       "    </tr>\n",
       "    <tr>\n",
       "      <th>0</th>\n",
       "      <td>70001</td>\n",
       "      <td>NaN</td>\n",
       "      <td>05-10-2012</td>\n",
       "      <td>3001</td>\n",
       "      <td>5002</td>\n",
       "    </tr>\n",
       "    <tr>\n",
       "      <th>1</th>\n",
       "      <td>70009</td>\n",
       "      <td>NaN</td>\n",
       "      <td>09-10-2012</td>\n",
       "      <td>3001</td>\n",
       "      <td>5005</td>\n",
       "    </tr>\n",
       "    <tr>\n",
       "      <th>2</th>\n",
       "      <td>70002</td>\n",
       "      <td>NaN</td>\n",
       "      <td>05-10-2012</td>\n",
       "      <td>3005</td>\n",
       "      <td>5001</td>\n",
       "    </tr>\n",
       "    <tr>\n",
       "      <th>3</th>\n",
       "      <td>70004</td>\n",
       "      <td>NaN</td>\n",
       "      <td>06-10-2012</td>\n",
       "      <td>3001</td>\n",
       "      <td>5003</td>\n",
       "    </tr>\n",
       "    <tr>\n",
       "      <th>9</th>\n",
       "      <td>70012</td>\n",
       "      <td>NaN</td>\n",
       "      <td>17-06-2012</td>\n",
       "      <td>3001</td>\n",
       "      <td>5002</td>\n",
       "    </tr>\n",
       "    <tr>\n",
       "      <th>10</th>\n",
       "      <td>70011</td>\n",
       "      <td>NaN</td>\n",
       "      <td>07-08-2012</td>\n",
       "      <td>3005</td>\n",
       "      <td>5007</td>\n",
       "    </tr>\n",
       "  </tbody>\n",
       "</table>\n",
       "</div>"
      ],
      "text/plain": [
       "    ord_no  purch_amt    ord_date  customer_id  salesman_id\n",
       "6    70008    5760.00  10-09-2012         3005         5001\n",
       "11   70013    3045.60  08-08-2012         3005         5001\n",
       "8    70003    2480.40  10-10-2012         3005         5003\n",
       "5    70005    2400.60  10-09-2012         3001         5001\n",
       "7    70010    1983.43  10-10-2012         3001         5006\n",
       "4    70007     948.50  10-09-2012         3005         5002\n",
       "0    70001        NaN  05-10-2012         3001         5002\n",
       "1    70009        NaN  09-10-2012         3001         5005\n",
       "2    70002        NaN  05-10-2012         3005         5001\n",
       "3    70004        NaN  06-10-2012         3001         5003\n",
       "9    70012        NaN  17-06-2012         3001         5002\n",
       "10   70011        NaN  07-08-2012         3005         5007"
      ]
     },
     "execution_count": 143,
     "metadata": {},
     "output_type": "execute_result"
    }
   ],
   "source": [
    "df.sort_values(by= 'purch_amt', ascending= False)"
   ]
  },
  {
   "cell_type": "code",
   "execution_count": null,
   "metadata": {},
   "outputs": [],
   "source": [
    "for i in df.index:\n",
    "    if df['purch_amt'][i]<300:\n",
    "        df['purch_amt'][i]=np.nan\n",
    "df"
   ]
  }
 ],
 "metadata": {
  "kernelspec": {
   "display_name": "Python 3",
   "language": "python",
   "name": "python3"
  },
  "language_info": {
   "codemirror_mode": {
    "name": "ipython",
    "version": 3
   },
   "file_extension": ".py",
   "mimetype": "text/x-python",
   "name": "python",
   "nbconvert_exporter": "python",
   "pygments_lexer": "ipython3",
   "version": "3.7.3"
  }
 },
 "nbformat": 4,
 "nbformat_minor": 2
}
