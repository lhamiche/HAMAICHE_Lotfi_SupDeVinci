{
 "cells": [
  {
   "cell_type": "markdown",
   "metadata": {},
   "source": [
    "### Licture du fichier CSV via Pandas"
   ]
  },
  {
   "cell_type": "code",
   "execution_count": 100,
   "metadata": {},
   "outputs": [],
   "source": [
    "import pandas as pd\n",
    "import numpy as np\n",
    "mower_market=pd.read_csv('mower_market_snapshot.csv',sep=',')"
   ]
  },
  {
   "cell_type": "markdown",
   "metadata": {},
   "source": [
    "### Appliquer le maximum de fonctions sur les données CSV "
   ]
  },
  {
   "cell_type": "code",
   "execution_count": null,
   "metadata": {},
   "outputs": [],
   "source": [
    "type(mower_market)"
   ]
  },
  {
   "cell_type": "code",
   "execution_count": null,
   "metadata": {},
   "outputs": [],
   "source": [
    "mower_market.head()"
   ]
  },
  {
   "cell_type": "code",
   "execution_count": null,
   "metadata": {},
   "outputs": [],
   "source": [
    "mower_market.tail()"
   ]
  },
  {
   "cell_type": "code",
   "execution_count": null,
   "metadata": {},
   "outputs": [],
   "source": [
    "series=pd.Series([mower_market])\n",
    "series"
   ]
  },
  {
   "cell_type": "code",
   "execution_count": null,
   "metadata": {},
   "outputs": [],
   "source": [
    "dataframe=pd.DataFrame(mower_market)\n",
    "dataframe"
   ]
  },
  {
   "cell_type": "code",
   "execution_count": null,
   "metadata": {},
   "outputs": [],
   "source": [
    "type(dataframe)"
   ]
  },
  {
   "cell_type": "code",
   "execution_count": null,
   "metadata": {},
   "outputs": [],
   "source": [
    "mower_market.shape"
   ]
  },
  {
   "cell_type": "code",
   "execution_count": null,
   "metadata": {},
   "outputs": [],
   "source": [
    "dataframe.shape"
   ]
  },
  {
   "cell_type": "code",
   "execution_count": null,
   "metadata": {},
   "outputs": [],
   "source": [
    "dataframe=pd.DataFrame(np.array(mower_market))\n",
    "dataframe"
   ]
  },
  {
   "cell_type": "code",
   "execution_count": null,
   "metadata": {},
   "outputs": [],
   "source": [
    "dataframe.head(2)"
   ]
  },
  {
   "cell_type": "code",
   "execution_count": null,
   "metadata": {},
   "outputs": [],
   "source": [
    "dataframe.tail(1)"
   ]
  },
  {
   "cell_type": "code",
   "execution_count": null,
   "metadata": {},
   "outputs": [],
   "source": [
    "dataframe.describe()"
   ]
  },
  {
   "cell_type": "code",
   "execution_count": null,
   "metadata": {},
   "outputs": [],
   "source": [
    "mower_market.describe()"
   ]
  },
  {
   "cell_type": "code",
   "execution_count": null,
   "metadata": {},
   "outputs": [],
   "source": [
    "mower_market.head(0)"
   ]
  },
  {
   "cell_type": "code",
   "execution_count": null,
   "metadata": {},
   "outputs": [],
   "source": [
    "dataframe.iloc[:20,:8]"
   ]
  },
  {
   "cell_type": "code",
   "execution_count": null,
   "metadata": {},
   "outputs": [],
   "source": [
    "mower_market.iloc[:20,:8]"
   ]
  },
  {
   "cell_type": "code",
   "execution_count": null,
   "metadata": {},
   "outputs": [],
   "source": [
    "mower_market[-5:]"
   ]
  },
  {
   "cell_type": "code",
   "execution_count": null,
   "metadata": {},
   "outputs": [],
   "source": [
    "dataframe.rename(columns=lambda c: chr(65+c))"
   ]
  },
  {
   "cell_type": "code",
   "execution_count": null,
   "metadata": {},
   "outputs": [],
   "source": [
    "mower_market.loc[:5,'capacity':'margin']"
   ]
  },
  {
   "cell_type": "code",
   "execution_count": null,
   "metadata": {},
   "outputs": [],
   "source": [
    "mower_market.loc[:5,('capacity','margin')]"
   ]
  },
  {
   "cell_type": "code",
   "execution_count": null,
   "metadata": {},
   "outputs": [],
   "source": [
    "mower_market.loc[:,['capacity','margin']]"
   ]
  },
  {
   "cell_type": "code",
   "execution_count": null,
   "metadata": {},
   "outputs": [],
   "source": [
    "mower_market.loc[:,['capacity','margin']].iloc[0:5]"
   ]
  },
  {
   "cell_type": "code",
   "execution_count": null,
   "metadata": {},
   "outputs": [],
   "source": [
    "mower_market.loc[mower_market.index[3],'margin']"
   ]
  },
  {
   "cell_type": "code",
   "execution_count": null,
   "metadata": {},
   "outputs": [],
   "source": [
    "mower_market.sort_values(by='capacity',ascending=False).head()"
   ]
  },
  {
   "cell_type": "code",
   "execution_count": null,
   "metadata": {},
   "outputs": [],
   "source": [
    "mower_market.loc[mower_market['capacity']>1,:]"
   ]
  },
  {
   "cell_type": "markdown",
   "metadata": {},
   "source": [
    "### Auditer et analyser la colonnes Prod_cost"
   ]
  },
  {
   "cell_type": "code",
   "execution_count": null,
   "metadata": {},
   "outputs": [],
   "source": [
    "mower_market['prod_cost']"
   ]
  },
  {
   "cell_type": "code",
   "execution_count": null,
   "metadata": {},
   "outputs": [],
   "source": [
    "#On remarque une valeur unknown on fait dont un test sur les valeur de la colonne prod_cost:\n",
    "    #Comme le type est par defaut str nous feront un caste vers float et nous determinerons les valeurs non caster\n",
    "    #en renvoyant le numero de ligne.\n",
    "tab=mower_market['prod_cost']    \n",
    "indx_errno=[]\n",
    "maximum=0\n",
    "minimum=0\n",
    "\n",
    "for i in range(len(tab)):\n",
    "    try:\n",
    "        res=float(tab[i])\n",
    "        if minimum > res :\n",
    "            minimum=res\n",
    "        elif maximum < res:   \n",
    "            maximum=res\n",
    "    except:\n",
    "        indx_errno.append(i)\n",
    "        \n",
    "print('\\nIncorrect values= \\n',tab[indx_errno])\n",
    "\n",
    "print('\\nMax= ',maximum)\n",
    "print('Min= ',minimum)"
   ]
  },
  {
   "cell_type": "code",
   "execution_count": null,
   "metadata": {},
   "outputs": [],
   "source": [
    "#les valeurs null\n",
    "print(mower_market.loc[mower_market['prod_cost']=='0',:])"
   ]
  },
  {
   "cell_type": "code",
   "execution_count": null,
   "metadata": {},
   "outputs": [],
   "source": [
    "#les valeurs null\n",
    "print(mower_market.loc[mower_market['prod_cost']<'0',:])"
   ]
  },
  {
   "cell_type": "markdown",
   "metadata": {},
   "source": [
    "### Analyser le nombre de valeurs manquantes par colonne"
   ]
  },
  {
   "cell_type": "code",
   "execution_count": null,
   "metadata": {},
   "outputs": [],
   "source": [
    "for i in mower_market.columns:\n",
    "    print(i+\"  =>  \"+str(mower_market[i].isnull().sum()))"
   ]
  },
  {
   "cell_type": "markdown",
   "metadata": {},
   "source": [
    "### Remplacer les valeurs manquantes par la moyenne de la colonne"
   ]
  },
  {
   "cell_type": "code",
   "execution_count": null,
   "metadata": {},
   "outputs": [],
   "source": [
    "mower_market['capacity'].mean()"
   ]
  },
  {
   "cell_type": "code",
   "execution_count": null,
   "metadata": {},
   "outputs": [],
   "source": [
    "tab_nan=mower_market['prod_cost'].isnull()\n",
    "mower_market['prod_cost'][tab_nan]"
   ]
  },
  {
   "cell_type": "code",
   "execution_count": null,
   "metadata": {},
   "outputs": [],
   "source": [
    "#Ce n'est pas possible car la colonne comprend des valeur incorrecte\n"
   ]
  },
  {
   "cell_type": "markdown",
   "metadata": {},
   "source": [
    "### Afficher les valeurs uniques de la colonne Warranty "
   ]
  },
  {
   "cell_type": "code",
   "execution_count": null,
   "metadata": {},
   "outputs": [],
   "source": [
    "mower_market['warranty'].unique()"
   ]
  },
  {
   "cell_type": "markdown",
   "metadata": {},
   "source": [
    "### Finir d'explorer la colonne prod_cost"
   ]
  },
  {
   "cell_type": "code",
   "execution_count": null,
   "metadata": {},
   "outputs": [],
   "source": [
    "#depuis notre analyse sur la colonne prod_cost nous constatant:\n",
    "    #un certain nombre de valeur null\n",
    "print('Nombre de valeurs null = ',18)\n",
    "    #un certain nombre de valeur 'unknow'\n",
    "print('Nombre de valeurs unknow =',len(indx_errno))\n",
    "    #un certain nombre de valeur negative \n",
    "print('Nombre de valeurs negatives =',len(mower_market.loc[mower_market['prod_cost']<'0',:]))"
   ]
  },
  {
   "cell_type": "markdown",
   "metadata": {},
   "source": [
    "### Vérifier sa cohérence et si possible la modifier en conséquence"
   ]
  },
  {
   "cell_type": "code",
   "execution_count": null,
   "metadata": {},
   "outputs": [],
   "source": [
    "# pour que les valeurs soient coherentes on fixes les valeurs null les valeurs nom numerique \n",
    "#et les valeur negatives a O\n",
    "mower_market=mower_market.replace(to_replace ='unknown' , value =np.nan)\n",
    "mower_market=mower_market.replace(to_replace ='-64' , value =np.nan)\n",
    "mower_market"
   ]
  },
  {
   "cell_type": "code",
   "execution_count": 662,
   "metadata": {},
   "outputs": [],
   "source": [
    "moy=mower_market['prod_cost'][mower_market.prod_cost.notnull()].astype('float64').median()"
   ]
  },
  {
   "cell_type": "code",
   "execution_count": null,
   "metadata": {},
   "outputs": [],
   "source": [
    "mower_market=mower_market.replace(to_replace =np.nan , value =moy)\n",
    "mower_market"
   ]
  },
  {
   "cell_type": "markdown",
   "metadata": {},
   "source": [
    "### Traiter la colonne warranty afin d'obtenir une colonne numérique avec 3 valeurs uniques"
   ]
  },
  {
   "cell_type": "code",
   "execution_count": null,
   "metadata": {},
   "outputs": [],
   "source": [
    "mower_market['warranty'].unique()"
   ]
  },
  {
   "cell_type": "code",
   "execution_count": 257,
   "metadata": {},
   "outputs": [],
   "source": [
    "for i in range(len(mower_market['warranty'])):\n",
    "    if mower_market.loc[mower_market.index[i], 'warranty'].find('1')!=-1:\n",
    "        mower_market.loc[mower_market.index[i], 'warranty']=1\n",
    "    elif mower_market.loc[mower_market.index[i], 'warranty'].find('2')!=-1:\n",
    "        mower_market.loc[mower_market.index[i], 'warranty']=2\n",
    "    else:\n",
    "        mower_market.loc[mower_market.index[i], 'warranty']=3"
   ]
  },
  {
   "cell_type": "code",
   "execution_count": null,
   "metadata": {},
   "outputs": [],
   "source": [
    "mower_market['warranty'].unique()"
   ]
  },
  {
   "cell_type": "code",
   "execution_count": null,
   "metadata": {},
   "outputs": [],
   "source": [
    "mower_market['warranty']"
   ]
  },
  {
   "cell_type": "markdown",
   "metadata": {},
   "source": [
    "### Traiter la colonne price afin d'avoir 3 catégories : "
   ]
  },
  {
   "cell_type": "code",
   "execution_count": null,
   "metadata": {},
   "outputs": [],
   "source": [
    "mower_market['price']"
   ]
  },
  {
   "cell_type": "code",
   "execution_count": 351,
   "metadata": {},
   "outputs": [],
   "source": [
    "cat_price={'0-300':mower_market.loc[(mower_market['price'] >=0) & (mower_market['price']<=300),:]['price']\n",
    "           ,'301-500':mower_market.loc[(mower_market['price'] >=301) & (mower_market['price']<=500),:]['price']\n",
    "           ,'501-++':mower_market.loc[mower_market['price'] >500,:]['price']}\n"
   ]
  },
  {
   "cell_type": "markdown",
   "metadata": {},
   "source": [
    "### Transformer la colonne product_type en colonne numérique avec 3 catégories :"
   ]
  },
  {
   "cell_type": "code",
   "execution_count": 34,
   "metadata": {},
   "outputs": [],
   "source": [
    "mower_market2=mower_market.copy()"
   ]
  },
  {
   "cell_type": "code",
   "execution_count": null,
   "metadata": {},
   "outputs": [],
   "source": [
    "mower_market2['product_type'].unique()"
   ]
  },
  {
   "cell_type": "code",
   "execution_count": 36,
   "metadata": {},
   "outputs": [],
   "source": [
    "mower_market2=mower_market2.replace()"
   ]
  },
  {
   "cell_type": "code",
   "execution_count": 52,
   "metadata": {},
   "outputs": [],
   "source": [
    "for i in range(len(mower_market['product_type'])):\n",
    "    if mower_market.loc[mower_market.index[i], 'product_type'].find('auto-portee')!=-1:\n",
    "        mower_market.loc[mower_market.index[i], 'product_type']=1\n",
    "    elif mower_market.loc[mower_market.index[i], 'product_type'].find('electrique')!=-1:\n",
    "        mower_market.loc[mower_market.index[i], 'product_type']=2\n",
    "    else:\n",
    "        mower_market.loc[mower_market.index[i], 'product_type']=3"
   ]
  },
  {
   "cell_type": "code",
   "execution_count": null,
   "metadata": {},
   "outputs": [],
   "source": [
    "mower_market['product_type'].unique()"
   ]
  },
  {
   "cell_type": "markdown",
   "metadata": {},
   "source": [
    "### Puis créer 3 colonnes (auto-portée, essence, électrique) représentant une variable binaire avec 1 si le produit est du type de la colonne ou 0 sinon. "
   ]
  },
  {
   "cell_type": "code",
   "execution_count": 55,
   "metadata": {},
   "outputs": [],
   "source": [
    "mower_market = mower_market.drop(['auto-portee','electrique','essence'], axis=1, errors='ignore')\n",
    "mower_market.insert(7, \"auto-portee\", mower_market['product_type']==1, True) \n",
    "mower_market.insert(8, \"electrique\", mower_market['product_type']== 2 , True) \n",
    "mower_market.insert(9, \"essence\", mower_market['product_type']==3, True) \n",
    "mower_market"
   ]
  },
  {
   "cell_type": "markdown",
   "metadata": {},
   "source": [
    "# Géneralisation"
   ]
  },
  {
   "cell_type": "code",
   "execution_count": null,
   "metadata": {},
   "outputs": [
    {
     "name": "stdout",
     "output_type": "stream",
     "text": [
      "La colonne [ prod_cost ]contient plusieurs types:\n",
      "\n"
     ]
    },
    {
     "data": {
      "image/png": "[encoded data removed]",
      "text/plain": [
       "<Figure size 1368x288 with 1 Axes>"
      ]
     },
     "metadata": {},
     "output_type": "display_data"
    },
    {
     "name": "stdout",
     "output_type": "stream",
     "text": [
      "\n",
      "Voulez vous traiter ces données en [ Float ] O/N \"choisir q pour quiter\"\n"
     ]
    }
   ],
   "source": [
    "import pandas as pd\n",
    "import numpy as np\n",
    "from math import isnan\n",
    "import matplotlib.pyplot as plt\n",
    "mower_market=pd.read_csv('mower_market_snapshot.csv',sep=',')\n",
    "cons1=['auto-portee', 'electrique', 'essence']\n",
    "cons2=['1','2','3']\n",
    "cons3=['Low', 'Medium', 'Hight']\n",
    "########################################################################################################\n",
    "def value_missing(x):\n",
    "    return sum(x.isnull())\n",
    "########################################################################################################\n",
    "def max_percentage(dico=\"\"):\n",
    "    dico_max={'percentage':[]}\n",
    "    l1=[]\n",
    "    l2=[]\n",
    "    try:\n",
    "        for key,val in dico.items():\n",
    "            l1.append(val['percentage'])\n",
    "            l2.append(key)\n",
    "        dico_max=dict(zip(l2, l1))\n",
    "    except:\n",
    "        print('[Data] incorrect')\n",
    "    return dico_max\n",
    "########################################################################################################\n",
    "def add_column(data=\"\"):\n",
    "    try:\n",
    "        data = data.drop(['auto-portee','electrique','essence'], axis=1, errors='ignore')\n",
    "        data.insert(7, \"auto-portee\", data['product_type']==1, True) \n",
    "        data.insert(8, \"electrique\", data['product_type']== 2 , True) \n",
    "        data.insert(9, \"essence\", data['product_type']==3, True) \n",
    "    except:\n",
    "        print(\"[Data] incorrecte\")\n",
    "########################################################################################################\n",
    "\n",
    "def max_val(data=\"\"):\n",
    "    maxi = 0\n",
    "    res=\"\"\n",
    "    try:\n",
    "        for k,v in data.items():\n",
    "            if v > maxi:\n",
    "                maxi=v\n",
    "                res=k\n",
    "    except:\n",
    "        print(\"[Data] incorrecte\")\n",
    "    return res\n",
    "########################################################################################################\n",
    "def choix_colmun(val=\"\",col_name=\"\"):\n",
    "    ind=0\n",
    "    result=\"\"\n",
    "    if(val!=\"\" and col_name!=\"\"):\n",
    "        go_out=0\n",
    "        print('Vous devez Changer la valeur :\"',val,'\" parmis les valeur suivantes:')\n",
    "        while go_out!=1:\n",
    "            try:\n",
    "                for v in col_name:\n",
    "                    print(v,\" O/N\")\n",
    "                    ok=0\n",
    "                    while ok!=1:\n",
    "                        res=input()\n",
    "                        if res=='N' or res=='n':\n",
    "                            ok=1\n",
    "                            ind+=1\n",
    "                            if ind==len(col_name):\n",
    "                                print('Vous devez choisir une valeur')\n",
    "                        elif res=='O' or res=='o':\n",
    "                            result=v\n",
    "                            go_out=1\n",
    "\n",
    "                            ok=1\n",
    "                        else:\n",
    "                            print('Erreur de saisie ressayez')\n",
    "\n",
    "                    if go_out==1:\n",
    "                        break\n",
    "            except:\n",
    "                print(\"[Valeur] ou [Colonne] incorrecte\")\n",
    "    else:\n",
    "        print(\"Vous devez entrer [Valeur] et [Colonne]\")\n",
    "    return result\n",
    "########################################################################################################\n",
    "def major_type(data=\"\"):\n",
    "    dic={}\n",
    "    try:\n",
    "        for col_name in data.columns:\n",
    "            inte,flo,pos,neg,zero,intpos,intneg,intzero=0,0,0,0,0,0,0,0\n",
    "            string,boolean,null,other,fperpos=0,0,0,0,0\n",
    "            iperpos,fperneg,iperneg,fperzero,iperzero=0,0,0,0,0\n",
    "            tab=data[col_name]\n",
    "            per=len(tab)\n",
    "            for val in data[col_name]:\n",
    "                try:  \n",
    "                    if float(val) > 0:\n",
    "                        try:\n",
    "                            if len(str(int(val)))==len(str(val)):\n",
    "                                inte +=1\n",
    "                                intpos+=1\n",
    "                            else:\n",
    "                                flo +=1\n",
    "                                pos+=1\n",
    "                        except:\n",
    "                            flo +=1\n",
    "                            pos+=1\n",
    "                    elif float(val) < 0:\n",
    "                        try:\n",
    "                            if len(str(int(val)))==len(str(val)):\n",
    "                                inte +=1\n",
    "                                intneg+=1\n",
    "                            else:\n",
    "                                flo +=1\n",
    "                                neg+=1\n",
    "                        except:\n",
    "                            flo +=1\n",
    "                            neg+=1\n",
    "                    elif float(val) == 0:\n",
    "                        try:\n",
    "                            if len(str(int(val)))==len(str(val)):\n",
    "                                inte +=1\n",
    "                                intzero+=1\n",
    "                            else:\n",
    "                                flo +=1\n",
    "                                zero+=1\n",
    "                        except:\n",
    "                            flo +=1\n",
    "                            zero+=1   \n",
    "                    elif isnan(float(val)):\n",
    "                        null+=1\n",
    "                except:\n",
    "                    try:\n",
    "                        if type(val)==str:\n",
    "                            if val=='True' or val=='False':\n",
    "                                boolean+=1\n",
    "                            else:\n",
    "                                string+=1\n",
    "                    except:\n",
    "                        other+=1\n",
    "            if inte!=0:\n",
    "                iperpos=intpos/inte\n",
    "                iperneg=intneg/inte\n",
    "                iperzero=intzero/inte\n",
    "            elif flo!=0:\n",
    "                iperpos=pos/flo\n",
    "                iperneg=neg/flo\n",
    "                iperzero=zero/flo\n",
    "            elif per==0:\n",
    "                per=1\n",
    "            dic.update({col_name:{'Integer':{'nb':inte,'percentage':(inte/per)*100,'positive':iperpos*100,\n",
    "                                           'negative':iperneg*100,'zero':iperzero*100}}})\n",
    "            dic[col_name].update({'Float':{'nb':flo,'percentage':(flo/per)*100,'positive':fperpos*100,\n",
    "                                           'negative':fperneg*100,'zero':fperzero*100}})\n",
    "            dic[col_name].update({'String':{'nb':string,'percentage':(string/per)*100}})\n",
    "            dic[col_name].update({'Boolean':{'nb':boolean,'percentage':(boolean/per)*100}})\n",
    "            dic[col_name].update({'NaN':{'nb':null,'percentage':(null/per)*100}})\n",
    "            dic[col_name].update({'Other':{'nb':other,'percentage':(other/per)*100}})\n",
    "\n",
    "    except:\n",
    "        print('[Data] incorrect')\n",
    "    \n",
    "    return dic\n",
    "########################################################################################################\n",
    "def nan_to_value(*args):\n",
    "    if((len(args)!=0) or (len(args)!=1)):\n",
    "        try:\n",
    "            data=args[0].copy()\n",
    "            col_name=str(args[1])\n",
    "            data_col=data[col_name]\n",
    "            med=data[col_name][data[col_name].notnull()].astype('float64').median()\n",
    "            for i in range(len(data_col)):\n",
    "                #args[0]=args[0].replace(to_replace=np.nan ,value=med)\n",
    "                try:\n",
    "                    if isnan(args[0].loc[args[0].index[i], col_name]):\n",
    "                        args[0].loc[args[0].index[i], col_name]=med\n",
    "                except:\n",
    "                    args[0].loc[args[0].index[i], col_name]=args[0].loc[args[0].index[i], col_name]\n",
    "        except:\n",
    "            print(\"[Data] ou [Colonne] incorrecte\")\n",
    "    else:\n",
    "        print(\"Vous devez entrer [Data] et [Colonne]\")\n",
    "########################################################################################################\n",
    "def filter_values_float(*args):\n",
    "    if((len(args)!=0) or (len(args)!=1)):\n",
    "        try:\n",
    "            data=args[0].copy()\n",
    "            col_name=str(args[1])\n",
    "            data_col=data[col_name]\n",
    "            for i in range(len(data_col)):\n",
    "                try:\n",
    "                    float(data_col[i])\n",
    "                    if float(data_col[i])<0:\n",
    "                        args[0].loc[args[0].index[i], col_name]=np.nan\n",
    "                except:\n",
    "                    args[0].loc[args[0].index[i], col_name]=np.nan\n",
    "        except:\n",
    "            print(\"[Data] ou [Colonne] incorrecte\")\n",
    "    else:\n",
    "        print(\"Vous devez entrer [Data] et [Colonne]\")\n",
    "########################################################################################################\n",
    "def filter_values_str(*args):\n",
    "    if((len(args)!=0) or (len(args)!=1)):\n",
    "        try:\n",
    "            data=args[0].copy()\n",
    "            col_name=str(args[1])\n",
    "            data_col=data[col_name]\n",
    "            for i in range(len(data_col)):\n",
    "                try:\n",
    "                    if col_name=='product_type':\n",
    "                        if str(args[0].loc[args[0].index[i], col_name]).find('auto-portee')!=-1:\n",
    "                            args[0].loc[args[0].index[i], col_name]=1\n",
    "                        elif str(args[0].loc[args[0].index[i], col_name]).find('electrique')!=-1:\n",
    "                            args[0].loc[args[0].index[i], col_name]=2\n",
    "                        elif str(args[0].loc[args[0].index[i], col_name]).find('essence')!=-1:\n",
    "                            args[0].loc[args[0].index[i], col_name]=3\n",
    "                        else:\n",
    "                            try:\n",
    "                                cons2.index(str(args[0].loc[args[0].index[i], col_name]))\n",
    "                            except:\n",
    "                                args[0].loc[args[0].index[i], col_name]=choix_colmun(str(args[0].loc[args[0].index[i], col_name]),cons1)\n",
    "                    elif col_name=='quality':\n",
    "                        try:\n",
    "                            cons3.index(str(args[0].loc[args[0].index[i], col_name]))\n",
    "                        except:\n",
    "                            args[0].loc[args[0].index[i], col_name]=choix_colmun(str(args[0].loc[args[0].index[i], col_name]),cons3)\n",
    "                    elif col_name=='warranty':\n",
    "                        if str(args[0].loc[args[0].index[i], col_name]).find('1')!=-1:\n",
    "                            args[0].loc[args[0].index[i], col_name]=1\n",
    "                        elif str(args[0].loc[args[0].index[i], col_name]).find('2')!=-1:\n",
    "                            args[0].loc[args[0].index[i], col_name]=2\n",
    "                        elif str(args[0].loc[args[0].index[i], col_name]).find('3')!=-1:\n",
    "                            args[0].loc[args[0].index[i], col_name]=3\n",
    "                        else:\n",
    "                            args[0].loc[args[0].index[i], col_name]=choix_colmun(str(args[0].loc[args[0].index[i], col_name]),cons2)  \n",
    "                except:\n",
    "                    print('Erreur:\\n'+'Colone: '+col_name+'\\n ligne:'+i)\n",
    "                    #args[0].loc[args[0].index[i], col_name]=np.nan\n",
    "        except:\n",
    "            print(\"[Data] ou [Colonne] incorrecte\")\n",
    "    else:\n",
    "        print(\"Vous devez entrer [Data] et [Colonne]\")       \n",
    "########################################################################################################\n",
    "def splot_stat(tab=\"\"):\n",
    "    ig, ax = plt.subplots(figsize=(19, 4), subplot_kw=dict(aspect=\"equal\"))\n",
    "\n",
    "    types_val = []\n",
    "    data=[]\n",
    "    types_val=[]\n",
    "    for key,val in tab.items():\n",
    "        data.append(val)\n",
    "        types_val.append(key+\" ==> \"+str(round(val,2))+\"%\")\n",
    " \n",
    "    wedges, texts = ax.pie(data, wedgeprops=dict(width=0.5), startangle=-40)\n",
    "\n",
    "    bbox_props = dict(boxstyle=\"square,pad=0.3\", fc=\"w\", ec=\"k\", lw=0.72)\n",
    "    kw = dict(arrowprops=dict(arrowstyle=\"-\"),\n",
    "              bbox=bbox_props, zorder=0, va=\"center\")\n",
    "    ax.legend(wedges, types_val,\n",
    "          title=\"Types\",\n",
    "          loc=\"center left\",\n",
    "          bbox_to_anchor=(1, 0, 0.5, 1))\n",
    "    \n",
    "    for i, p in enumerate(wedges):\n",
    "        ang = (p.theta2 - p.theta1)/2. + p.theta1\n",
    "        y = np.sin(np.deg2rad(ang))\n",
    "        x = np.cos(np.deg2rad(ang))\n",
    "        horizontalalignment = {-1: \"right\", 1: \"left\"}[int(np.sign(x))]\n",
    "        connectionstyle = \"angle,angleA=0,angleB={}\".format(ang)\n",
    "        kw[\"arrowprops\"].update({\"connectionstyle\": connectionstyle})\n",
    "        \n",
    "\n",
    "    plt.show()\n",
    "\n",
    "########################################################################################################\n",
    "\n",
    "def main(data=\"\"):\n",
    "    res=\"\"\n",
    "    go_out=0\n",
    "    try:\n",
    "        dic_col=major_type(data)\n",
    "        for val in data.columns:\n",
    "            if go_out==1:\n",
    "                break\n",
    "            max_per=max_percentage(major_type(data)[val])\n",
    "            max_key=max_val(max_per)\n",
    "            if max_per[max_key] !=100:\n",
    "                print('La colonne [',val,']contient plusieurs types:\\n')\n",
    "                splot_stat(max_per)\n",
    "                \n",
    "                print('\\nVoulez vous traiter ces données en [',max_key,'] O/N \"choisir q pour quiter\"')\n",
    "                ok=0\n",
    "                while ok!=1:\n",
    "                    res=input()\n",
    "                    if res=='q' or res=='q':\n",
    "                        ok=1\n",
    "                        go_out=1\n",
    "                    else:\n",
    "                        if res=='N' or res=='n':\n",
    "                            ok=1\n",
    "                        elif res=='O' or res=='o':\n",
    "                            if max_key=='Float':\n",
    "                                filter_values_float(data,val)\n",
    "                                nan_to_value(data,val)\n",
    "                                data['val'] = data['val'].astype('float64')\n",
    "                                ok=1\n",
    "                            elif max_key=='String':\n",
    "                                print('')\n",
    "                                filter_values_str(data,val)\n",
    "                                data['val'] = data['val'].astype('string')\n",
    "                                ok=1\n",
    "                            elif max_key=='Integer':\n",
    "                                filter_values_float(data,val)\n",
    "                                nan_to_value(data,val)\n",
    "                                data['val'] = data['val'].astype('int64')\n",
    "                                try:\n",
    "                                    for i in renage(len(data[val])):\n",
    "                                        data.loc[data.index[i], val]=int(data[i])\n",
    "                                except:\n",
    "                                    print('Une erreur s\\'est prosuite')\n",
    "                                ok=1\n",
    "                            elif max_key=='NaN':\n",
    "                                try:\n",
    "                                    for i in renage(len(data[val])):\n",
    "                                        data.loc[data.index[i], val]=np.nan\n",
    "                                except:\n",
    "                                    print('Une erreur s\\'est prosuite')\n",
    "                            else:\n",
    "                                pritn('Vous devez verifiez les donner de [Data] Clonne:',val)\n",
    "\n",
    "                        else:\n",
    "                            print('Erreur de saisie ressayez')\n",
    "            else: \n",
    "                add_column(data)\n",
    "    except:\n",
    "         print(\"[Data] incorrecte\")\n",
    "main(mower_market)\n",
    "mower_market"
   ]
  },
  {
   "cell_type": "code",
   "execution_count": null,
   "metadata": {},
   "outputs": [],
   "source": []
  }
 ],
 "metadata": {
  "kernelspec": {
   "display_name": "Python 3",
   "language": "python",
   "name": "python3"
  },
  "language_info": {
   "codemirror_mode": {
    "name": "ipython",
    "version": 3
   },
   "file_extension": ".py",
   "mimetype": "text/x-python",
   "name": "python",
   "nbconvert_exporter": "python",
   "pygments_lexer": "ipython3",
   "version": "3.7.3"
  }
 },
 "nbformat": 4,
 "nbformat_minor": 2
}
