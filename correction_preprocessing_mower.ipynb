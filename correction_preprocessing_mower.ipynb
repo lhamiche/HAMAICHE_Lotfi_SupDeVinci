{
 "cells": [
  {
   "cell_type": "code",
   "execution_count": 59,
   "metadata": {
    "id": "m8_W6JkGk67h"
   },
   "outputs": [
    {
     "name": "stderr",
     "output_type": "stream",
     "text": [
      "/snap/jupyter/6/lib/python3.7/site-packages/ipykernel_launcher.py:61: SettingWithCopyWarning: \n",
      "A value is trying to be set on a copy of a slice from a DataFrame\n",
      "\n",
      "See the caveats in the documentation: https://pandas.pydata.org/pandas-docs/stable/user_guide/indexing.html#returning-a-view-versus-a-copy\n"
     ]
    },
    {
     "data": {
      "text/html": [
       "<div>\n",
       "<style scoped>\n",
       "    .dataframe tbody tr th:only-of-type {\n",
       "        vertical-align: middle;\n",
       "    }\n",
       "\n",
       "    .dataframe tbody tr th {\n",
       "        vertical-align: top;\n",
       "    }\n",
       "\n",
       "    .dataframe thead th {\n",
       "        text-align: right;\n",
       "    }\n",
       "</style>\n",
       "<table border=\"1\" class=\"dataframe\">\n",
       "  <thead>\n",
       "    <tr style=\"text-align: right;\">\n",
       "      <th></th>\n",
       "      <th>capacity</th>\n",
       "      <th>failure_rate</th>\n",
       "      <th>margin</th>\n",
       "      <th>price</th>\n",
       "      <th>prod_cost</th>\n",
       "      <th>warranty</th>\n",
       "      <th>attractiveness</th>\n",
       "      <th>product_type_encoded</th>\n",
       "      <th>quality_encoded</th>\n",
       "    </tr>\n",
       "  </thead>\n",
       "  <tbody>\n",
       "    <tr>\n",
       "      <th>0</th>\n",
       "      <td>10.492623</td>\n",
       "      <td>0.042528</td>\n",
       "      <td>633.766584</td>\n",
       "      <td>828.802103</td>\n",
       "      <td>195.035519</td>\n",
       "      <td>3.0</td>\n",
       "      <td>0.650648</td>\n",
       "      <td>0.0</td>\n",
       "      <td>1.0</td>\n",
       "    </tr>\n",
       "    <tr>\n",
       "      <th>1</th>\n",
       "      <td>20.273730</td>\n",
       "      <td>0.037896</td>\n",
       "      <td>731.576817</td>\n",
       "      <td>882.894916</td>\n",
       "      <td>151.318099</td>\n",
       "      <td>3.0</td>\n",
       "      <td>0.699792</td>\n",
       "      <td>0.0</td>\n",
       "      <td>1.0</td>\n",
       "    </tr>\n",
       "    <tr>\n",
       "      <th>2</th>\n",
       "      <td>20.190457</td>\n",
       "      <td>0.039111</td>\n",
       "      <td>741.218202</td>\n",
       "      <td>919.355522</td>\n",
       "      <td>178.137319</td>\n",
       "      <td>3.0</td>\n",
       "      <td>0.632129</td>\n",
       "      <td>0.0</td>\n",
       "      <td>1.0</td>\n",
       "    </tr>\n",
       "    <tr>\n",
       "      <th>3</th>\n",
       "      <td>27.220131</td>\n",
       "      <td>0.041303</td>\n",
       "      <td>654.255635</td>\n",
       "      <td>817.085097</td>\n",
       "      <td>162.829462</td>\n",
       "      <td>3.0</td>\n",
       "      <td>0.810730</td>\n",
       "      <td>0.0</td>\n",
       "      <td>1.0</td>\n",
       "    </tr>\n",
       "    <tr>\n",
       "      <th>4</th>\n",
       "      <td>16.370911</td>\n",
       "      <td>0.037938</td>\n",
       "      <td>703.094527</td>\n",
       "      <td>844.581465</td>\n",
       "      <td>141.486938</td>\n",
       "      <td>3.0</td>\n",
       "      <td>0.757614</td>\n",
       "      <td>0.0</td>\n",
       "      <td>2.0</td>\n",
       "    </tr>\n",
       "    <tr>\n",
       "      <th>...</th>\n",
       "      <td>...</td>\n",
       "      <td>...</td>\n",
       "      <td>...</td>\n",
       "      <td>...</td>\n",
       "      <td>...</td>\n",
       "      <td>...</td>\n",
       "      <td>...</td>\n",
       "      <td>...</td>\n",
       "      <td>...</td>\n",
       "    </tr>\n",
       "    <tr>\n",
       "      <th>1394</th>\n",
       "      <td>44.959895</td>\n",
       "      <td>0.234647</td>\n",
       "      <td>63.662561</td>\n",
       "      <td>75.161102</td>\n",
       "      <td>11.498540</td>\n",
       "      <td>1.0</td>\n",
       "      <td>0.513126</td>\n",
       "      <td>2.0</td>\n",
       "      <td>2.0</td>\n",
       "    </tr>\n",
       "    <tr>\n",
       "      <th>1395</th>\n",
       "      <td>59.356058</td>\n",
       "      <td>0.253694</td>\n",
       "      <td>64.014543</td>\n",
       "      <td>75.395132</td>\n",
       "      <td>11.380589</td>\n",
       "      <td>1.0</td>\n",
       "      <td>0.547739</td>\n",
       "      <td>2.0</td>\n",
       "      <td>1.0</td>\n",
       "    </tr>\n",
       "    <tr>\n",
       "      <th>1396</th>\n",
       "      <td>67.865222</td>\n",
       "      <td>0.228935</td>\n",
       "      <td>62.132035</td>\n",
       "      <td>810.883148</td>\n",
       "      <td>57.762361</td>\n",
       "      <td>1.0</td>\n",
       "      <td>0.655622</td>\n",
       "      <td>2.0</td>\n",
       "      <td>1.0</td>\n",
       "    </tr>\n",
       "    <tr>\n",
       "      <th>1397</th>\n",
       "      <td>66.855435</td>\n",
       "      <td>0.244948</td>\n",
       "      <td>58.697122</td>\n",
       "      <td>68.491318</td>\n",
       "      <td>9.794197</td>\n",
       "      <td>1.0</td>\n",
       "      <td>0.867537</td>\n",
       "      <td>2.0</td>\n",
       "      <td>1.0</td>\n",
       "    </tr>\n",
       "    <tr>\n",
       "      <th>1398</th>\n",
       "      <td>54.712713</td>\n",
       "      <td>0.177143</td>\n",
       "      <td>64.259212</td>\n",
       "      <td>74.955428</td>\n",
       "      <td>10.696216</td>\n",
       "      <td>1.0</td>\n",
       "      <td>0.538969</td>\n",
       "      <td>2.0</td>\n",
       "      <td>1.0</td>\n",
       "    </tr>\n",
       "  </tbody>\n",
       "</table>\n",
       "<p>1399 rows × 9 columns</p>\n",
       "</div>"
      ],
      "text/plain": [
       "       capacity  failure_rate      margin       price   prod_cost  warranty  \\\n",
       "0     10.492623      0.042528  633.766584  828.802103  195.035519       3.0   \n",
       "1     20.273730      0.037896  731.576817  882.894916  151.318099       3.0   \n",
       "2     20.190457      0.039111  741.218202  919.355522  178.137319       3.0   \n",
       "3     27.220131      0.041303  654.255635  817.085097  162.829462       3.0   \n",
       "4     16.370911      0.037938  703.094527  844.581465  141.486938       3.0   \n",
       "...         ...           ...         ...         ...         ...       ...   \n",
       "1394  44.959895      0.234647   63.662561   75.161102   11.498540       1.0   \n",
       "1395  59.356058      0.253694   64.014543   75.395132   11.380589       1.0   \n",
       "1396  67.865222      0.228935   62.132035  810.883148   57.762361       1.0   \n",
       "1397  66.855435      0.244948   58.697122   68.491318    9.794197       1.0   \n",
       "1398  54.712713      0.177143   64.259212   74.955428   10.696216       1.0   \n",
       "\n",
       "      attractiveness  product_type_encoded  quality_encoded  \n",
       "0           0.650648                   0.0              1.0  \n",
       "1           0.699792                   0.0              1.0  \n",
       "2           0.632129                   0.0              1.0  \n",
       "3           0.810730                   0.0              1.0  \n",
       "4           0.757614                   0.0              2.0  \n",
       "...              ...                   ...              ...  \n",
       "1394        0.513126                   2.0              2.0  \n",
       "1395        0.547739                   2.0              1.0  \n",
       "1396        0.655622                   2.0              1.0  \n",
       "1397        0.867537                   2.0              1.0  \n",
       "1398        0.538969                   2.0              1.0  \n",
       "\n",
       "[1399 rows x 9 columns]"
      ]
     },
     "execution_count": 59,
     "metadata": {},
     "output_type": "execute_result"
    }
   ],
   "source": [
    "#Custom functions\n",
    "import pandas as pd\n",
    "import numpy as np\n",
    "from sklearn import preprocessing\n",
    "from math import isnan\n",
    "def Treatment_1(name):\n",
    "    #@global ID\n",
    "        #Variable Global unique \"Une sorte de Primary Key\"\n",
    "        #Peut etre utulisé a l'interieur ou lexterieur d'une fonction apres initialisation\n",
    "    global ID \n",
    "    #@df\n",
    "        #Variale ou l'on stock notre DataFrame en utulisant le module Pandas \"abreger par @pd\"\n",
    "    #@read_csv\n",
    "        #Fonction de lecture et importation du fichier CSV par :\n",
    "            #nom \"@name\"\n",
    "            #separateur ',' ou ';' \"selon les caracteriqtique du fichier CSV\"\n",
    "            #@head ici egal a None ce qui renvoie un DF avec :\n",
    "                #Noms de colonnes compris dans les valeurs\n",
    "                #Une suite de nombre d'entier comme nom de colonne par defaut \"0 1 2 ...\"\n",
    "    df = pd.read_csv(name, sep=\",\", header=None)\n",
    "    #Renommer les noms colonnes de notre DF par les valeur de la premiere ligne \"0\" consecutivement\n",
    "        #@df.iloc[0, :].tolist()\n",
    "            #Extraction des valeur de la premiere ligne et les stocker dans une liste\n",
    "        #@df.columns\n",
    "            #Modification des noms de colonnes par les valeurs de la liste consicutivement \n",
    "    df.columns = df.iloc[0, :].tolist()\n",
    "    #Suppression de la premiere ligne origine des noms de colonnes\n",
    "        #@drop(0, axis = 0) \n",
    "            #Supprime la ligne 0 \n",
    "        #reset_index(drop = True)\n",
    "            #Met a jour le debut des index commancant par 1 apres supprssion de ligne \"debuter a 0\"\n",
    "        #@axis = 0\n",
    "            #Designe qu'on travail sur les lignes\n",
    "    df = df.drop(0, axis = 0).reset_index(drop = True)\n",
    "    #Stocker les id de notre DF dans la variable global @ID\n",
    "    ID = df.id\n",
    "    #Suppression de la colonne @id de puis le DF\n",
    "        #@axis =  1\n",
    "            #Designe qu'on travail sur les colonnes\n",
    "    df = df.drop('id', axis =  1)\n",
    "    #Renoie de notre DF en sortie\n",
    "    return df\n",
    "\n",
    "def Treatment_2(df):\n",
    "    lb_make = preprocessing.LabelEncoder()      #Let's transform our string categorical data to numeric categorical data !    \n",
    "    #Remplissement d'une liste @label_list par les nom de colonne d'index  5 et 7\n",
    "    label_list = df.columns[5:7].tolist()\n",
    "    \n",
    "    #@wa recoit le nom de colonne 7 de notre DF \"warranty\"\n",
    "    wa = df.columns[7]\n",
    "    #Stocker les noms colonnes de notre DF dans une liste \"exclure les colone 5,6,7,8\" \n",
    "        #@isin\n",
    "    numeric_list = df.columns[~df.columns.isin(df.columns[5:8])].tolist()\n",
    "    #Boucle parcourant les colonne de DF\n",
    "    for x in df.columns: \n",
    "        for w in df.index:#parcour des index de DF\n",
    "            if x in numeric_list:#teste si le nom de colonne x est dans la liste @numeric_list\"\n",
    "                if df[x][w] == 'unknown':#Test si les valeur de la colonne a lindex @w est un \"unknow\"\n",
    "                    df[x][w] = 0 #La remplace par 0\n",
    "            elif x in wa:# si egale a la 7 eme colonne\n",
    "                df[x][w] = df[x][w][0]#remplacer par son premier char \"L, M,H\"\n",
    "            elif x in label_list:#si @x dans[ 'prod_cost', 'product_type]\n",
    "                #ajouter une clonen a la fin du DF \n",
    "                    #@str(x)+'_encoded' no, de la colonne ici c'est une concatenation \n",
    "                    #\n",
    "                df[str(x)+'_encoded'] = lb_make.fit_transform(df[x])\n",
    "                \n",
    "    if 'market_share' in df.columns.tolist():\n",
    "        #si condition :\n",
    "            #Suppression de la colonne \"market_share\" dans le DF\n",
    "        df = df.drop('market_share', axis = 1)\n",
    "    #   \n",
    "    df = df.drop(label_list, axis = 1) #Suppression des colonnes [ 'prod_cost', 'product_type] \n",
    "    for x in df.columns:#parcours des colonne de DF\n",
    "        df[x] = df[x].astype(float)#Convertion en Float    \n",
    "    return df\n",
    "\n",
    "#Improve this treatment :)\n",
    "def Treatment_3(df):\n",
    "    for x, y in zip(df.prod_cost, df.index):#parcours du dictionnaire a cle 'contenu prod_cost' valeurs \"les index de DF\"\n",
    "        rep = isnan(df.prod_cost[y])#Test si la valeur est un NaN\n",
    "        if rep == True or x == 0 or x < 0:\n",
    "            df['prod_cost'][y] = df['prod_cost'].mean()#s\n",
    "    return df\n",
    "\n",
    "#Files    \n",
    "name_1 = 'mower_market_snapshot.csv'\n",
    "\n",
    "\n",
    "#print(ID)\n",
    "Treatment_3(Treatment_2(Treatment_1(name_1)))"
   ]
  },
  {
   "cell_type": "code",
   "execution_count": 35,
   "metadata": {},
   "outputs": [
    {
     "data": {
      "text/plain": [
       "['capacity',\n",
       " 'failure_rate',\n",
       " 'id',\n",
       " 'margin',\n",
       " 'price',\n",
       " 'warranty',\n",
       " 'market_share',\n",
       " 'attractiveness']"
      ]
     },
     "execution_count": 35,
     "metadata": {},
     "output_type": "execute_result"
    }
   ],
   "source": [
    "df.columns[~df.columns.isin(df.columns[5:8])].tolist()"
   ]
  },
  {
   "cell_type": "code",
   "execution_count": 37,
   "metadata": {},
   "outputs": [
    {
     "data": {
      "text/plain": [
       "'quality'"
      ]
     },
     "execution_count": 37,
     "metadata": {},
     "output_type": "execute_result"
    }
   ],
   "source": [
    "df.columns[7]"
   ]
  },
  {
   "cell_type": "code",
   "execution_count": 49,
   "metadata": {},
   "outputs": [],
   "source": [
    "df=Treatment_1(name_1)"
   ]
  },
  {
   "cell_type": "code",
   "execution_count": 39,
   "metadata": {},
   "outputs": [
    {
     "data": {
      "text/plain": [
       "['prod_cost', 'product_type']"
      ]
     },
     "execution_count": 39,
     "metadata": {},
     "output_type": "execute_result"
    }
   ],
   "source": [
    "df.columns[5:7].tolist()"
   ]
  },
  {
   "cell_type": "code",
   "execution_count": 50,
   "metadata": {},
   "outputs": [],
   "source": [
    " wa = df.columns[7]"
   ]
  },
  {
   "cell_type": "code",
   "execution_count": 51,
   "metadata": {},
   "outputs": [
    {
     "data": {
      "text/plain": [
       "'warranty'"
      ]
     },
     "execution_count": 51,
     "metadata": {},
     "output_type": "execute_result"
    }
   ],
   "source": [
    "df.columns[7]"
   ]
  },
  {
   "cell_type": "code",
   "execution_count": null,
   "metadata": {},
   "outputs": [],
   "source": []
  }
 ],
 "metadata": {
  "colab": {
   "name": "correction_preprocessing_mower",
   "provenance": []
  },
  "kernelspec": {
   "display_name": "Python 3",
   "language": "python",
   "name": "python3"
  },
  "language_info": {
   "codemirror_mode": {
    "name": "ipython",
    "version": 3
   },
   "file_extension": ".py",
   "mimetype": "text/x-python",
   "name": "python",
   "nbconvert_exporter": "python",
   "pygments_lexer": "ipython3",
   "version": "3.7.3"
  }
 },
 "nbformat": 4,
 "nbformat_minor": 1
}
