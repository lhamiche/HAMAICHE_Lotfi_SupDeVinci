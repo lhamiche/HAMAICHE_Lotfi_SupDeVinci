{
 "cells": [
  {
   "cell_type": "markdown",
   "metadata": {},
   "source": [
    "# Exercice1\n"
   ]
  },
  {
   "cell_type": "code",
   "execution_count": 93,
   "metadata": {},
   "outputs": [],
   "source": [
    "c=\"X44bf38j23jdjgfjh737nei47\"\n",
    "c_alpha=[]\n",
    "c_num=[]"
   ]
  },
  {
   "cell_type": "code",
   "execution_count": 94,
   "metadata": {},
   "outputs": [],
   "source": [
    "for var in c:\n",
    "    if var.isalpha():\n",
    "        c_alpha.append(var)\n",
    "    elif var.isdigit():\n",
    "        c_num.append(var)"
   ]
  },
  {
   "cell_type": "code",
   "execution_count": 95,
   "metadata": {},
   "outputs": [
    {
     "data": {
      "text/plain": [
       "['X', 'b', 'f', 'j', 'j', 'd', 'j', 'g', 'f', 'j', 'h', 'n', 'e', 'i']"
      ]
     },
     "execution_count": 95,
     "metadata": {},
     "output_type": "execute_result"
    }
   ],
   "source": [
    "c_alpha"
   ]
  },
  {
   "cell_type": "code",
   "execution_count": 96,
   "metadata": {},
   "outputs": [
    {
     "data": {
      "text/plain": [
       "['4', '4', '3', '8', '2', '3', '7', '3', '7', '4', '7']"
      ]
     },
     "execution_count": 96,
     "metadata": {},
     "output_type": "execute_result"
    }
   ],
   "source": [
    "c_num"
   ]
  },
  {
   "cell_type": "code",
   "execution_count": 97,
   "metadata": {},
   "outputs": [],
   "source": [
    "if c.find(\"j23\")> -1:\n",
    "    c=c.replace(\"j23\",\"j24\")"
   ]
  },
  {
   "cell_type": "code",
   "execution_count": 98,
   "metadata": {},
   "outputs": [
    {
     "data": {
      "text/plain": [
       "'X44bf38j24jdjgfjh737nei47'"
      ]
     },
     "execution_count": 98,
     "metadata": {},
     "output_type": "execute_result"
    }
   ],
   "source": [
    "c"
   ]
  },
  {
   "cell_type": "code",
   "execution_count": 99,
   "metadata": {},
   "outputs": [
    {
     "name": "stdout",
     "output_type": "stream",
     "text": [
      "La suite f37 existe\n"
     ]
    }
   ],
   "source": [
    "if c.find('f')> -1:\n",
    "    if c.find('3') > -1:\n",
    "        if c.find('7')> -1:\n",
    "            if c.find('f') < c.find('3') <  c.find('7') :\n",
    "                print('La suite f37 existe')\n",
    "            else :\n",
    "                print('La suite f37 n\\'existe pas')\n",
    "        else:\n",
    "            print('La suite f37 n\\'existe pas')\n",
    "    else:\n",
    "        print('La suite f37 n\\'existe pas')\n",
    "else:\n",
    "    print('La suite f37 n\\'existe pas')"
   ]
  },
  {
   "cell_type": "markdown",
   "metadata": {},
   "source": [
    "# Exercice 2"
   ]
  },
  {
   "cell_type": "code",
   "execution_count": 344,
   "metadata": {},
   "outputs": [],
   "source": [
    "texte=\"We introduce here the Python language\""
   ]
  },
  {
   "cell_type": "code",
   "execution_count": 356,
   "metadata": {},
   "outputs": [
    {
     "name": "stdout",
     "output_type": "stream",
     "text": [
      "compteur= 37  taille réelle= 37\n"
     ]
    }
   ],
   "source": [
    "compteur=0\n",
    "for var in texte :\n",
    "    compteur+=1\n",
    "        \n",
    "print('compteur=',compteur,' taille réelle=',len(texte))    "
   ]
  },
  {
   "cell_type": "code",
   "execution_count": 357,
   "metadata": {},
   "outputs": [
    {
     "name": "stdout",
     "output_type": "stream",
     "text": [
      "compteur= 32  taille réelle= 37\n"
     ]
    }
   ],
   "source": [
    "compteur=0\n",
    "for var in texte.replace(' ','') :\n",
    "    compteur+=1\n",
    "\n",
    "print('compteur=',compteur,' taille réelle=',len(texte))"
   ]
  },
  {
   "cell_type": "code",
   "execution_count": 342,
   "metadata": {},
   "outputs": [
    {
     "name": "stdout",
     "output_type": "stream",
     "text": [
      "6\n"
     ]
    }
   ],
   "source": [
    "def cmp_word(texte):\n",
    "    compteur=0\n",
    "    cmp_char=0\n",
    "    max_len=len(texte)-1\n",
    "    for i in range(len(texte)) :\n",
    "        if texte[i] == ' ' :\n",
    "            cmp_char+=1\n",
    "        else:\n",
    "            if i == max_len or cmp_char!=0 :\n",
    "                compteur+=1\n",
    "                cmp_char=0           \n",
    "    print(compteur)\n",
    "cmp_word(texte)"
   ]
  },
  {
   "cell_type": "code",
   "execution_count": 371,
   "metadata": {},
   "outputs": [],
   "source": [
    "texte2=\"\"\"We introduce here the Python language. To learn more about the language,\n",
    " consider going through the excellent tutorial https://docs.python.org/\n",
    "tutorial. Dedicated books are also available, such as \n",
    "http://www.diveintopython.net/.\"\"\""
   ]
  },
  {
   "cell_type": "code",
   "execution_count": 372,
   "metadata": {},
   "outputs": [
    {
     "data": {
      "text/plain": [
       "'We introduce here the Python language. To learn more about the language,\\n consider going through the excellent tutorial https://docs.python.org/\\ntutorial. Dedicated books are also available, such as \\nhttp://www.diveintopython.net/.'"
      ]
     },
     "execution_count": 372,
     "metadata": {},
     "output_type": "execute_result"
    }
   ],
   "source": [
    "texte2"
   ]
  },
  {
   "cell_type": "code",
   "execution_count": 373,
   "metadata": {},
   "outputs": [
    {
     "name": "stdout",
     "output_type": "stream",
     "text": [
      "27\n"
     ]
    }
   ],
   "source": [
    "cmp_word(texte2)"
   ]
  },
  {
   "cell_type": "code",
   "execution_count": 374,
   "metadata": {},
   "outputs": [],
   "source": [
    "import validators"
   ]
  },
  {
   "cell_type": "code",
   "execution_count": 375,
   "metadata": {},
   "outputs": [],
   "source": [
    "d=validators.url('https://docs.pythosssn.org/tutorial')"
   ]
  },
  {
   "cell_type": "code",
   "execution_count": 376,
   "metadata": {},
   "outputs": [
    {
     "data": {
      "text/plain": [
       "['We',\n",
       " 'introduce',\n",
       " 'here',\n",
       " 'the',\n",
       " 'Python',\n",
       " 'language.',\n",
       " 'To',\n",
       " 'learn',\n",
       " 'more',\n",
       " 'about',\n",
       " 'the',\n",
       " 'language,\\n',\n",
       " 'consider',\n",
       " 'going',\n",
       " 'through',\n",
       " 'the',\n",
       " 'excellent',\n",
       " 'tutorial',\n",
       " 'https://docs.python.org/\\ntutorial.',\n",
       " 'Dedicated',\n",
       " 'books',\n",
       " 'are',\n",
       " 'also',\n",
       " 'available,',\n",
       " 'such',\n",
       " 'as',\n",
       " '\\nhttp://www.diveintopython.net/.']"
      ]
     },
     "execution_count": 376,
     "metadata": {},
     "output_type": "execute_result"
    }
   ],
   "source": [
    "texte2.split(\" \")"
   ]
  },
  {
   "cell_type": "markdown",
   "metadata": {},
   "source": [
    "# Exercice3"
   ]
  },
  {
   "cell_type": "code",
   "execution_count": 270,
   "metadata": {},
   "outputs": [
    {
     "name": "stdout",
     "output_type": "stream",
     "text": [
      "Valeur1:zoo\n",
      "Valeur2:tropico\n",
      "Valeur3:amazon\n"
     ]
    }
   ],
   "source": [
    "ma_liste=[]\n",
    "ma_liste.append(input('Valeur1:'))\n",
    "ma_liste.append(input('Valeur2:'))\n",
    "ma_liste.append(input('Valeur3:'))"
   ]
  },
  {
   "cell_type": "code",
   "execution_count": 271,
   "metadata": {},
   "outputs": [
    {
     "data": {
      "text/plain": [
       "['zoo', 'tropico', 'amazon']"
      ]
     },
     "execution_count": 271,
     "metadata": {},
     "output_type": "execute_result"
    }
   ],
   "source": [
    "ma_liste"
   ]
  },
  {
   "cell_type": "code",
   "execution_count": 272,
   "metadata": {},
   "outputs": [
    {
     "data": {
      "text/plain": [
       "['amazon', 'tropico', 'zoo']"
      ]
     },
     "execution_count": 272,
     "metadata": {},
     "output_type": "execute_result"
    }
   ],
   "source": [
    "ma_liste.sort()\n",
    "ma_liste"
   ]
  },
  {
   "cell_type": "code",
   "execution_count": 289,
   "metadata": {},
   "outputs": [
    {
     "name": "stdout",
     "output_type": "stream",
     "text": [
      "Algerie\n",
      "France\n",
      "Portugal\n",
      "Allemagne\n",
      "USA\n",
      "japon\n",
      "amien\n",
      "fin\n",
      "FIN\n"
     ]
    }
   ],
   "source": [
    "ma_liste2=[]\n",
    "var=\"\"\n",
    "while var!=\"FIN\" :\n",
    "    ma_liste2.append(input())\n",
    "    var=ma_liste2[len(ma_liste2)-1]\n",
    "    if(var==\"FIN\"):\n",
    "        ma_liste2.pop(len(ma_liste2)-1)\n",
    "    ma_liste2.sort()"
   ]
  },
  {
   "cell_type": "code",
   "execution_count": 290,
   "metadata": {},
   "outputs": [
    {
     "data": {
      "text/plain": [
       "['Algerie', 'Allemagne', 'France', 'Portugal', 'USA', 'amien', 'fin', 'japon']"
      ]
     },
     "execution_count": 290,
     "metadata": {},
     "output_type": "execute_result"
    }
   ],
   "source": [
    "ma_liste2"
   ]
  },
  {
   "cell_type": "markdown",
   "metadata": {},
   "source": [
    "# Exercice4\n"
   ]
  },
  {
   "cell_type": "code",
   "execution_count": 310,
   "metadata": {},
   "outputs": [],
   "source": [
    "Couleurs = [ \"Pique\",\"Trefle\",\"Carreau\",\"Coeur\" ]\n",
    "valeurs = [2, 3, 4, 5, 6, 7, 8, 9, 10,\"valet\",\"dame\",\"roi\",\"as\" ]"
   ]
  },
  {
   "cell_type": "code",
   "execution_count": 316,
   "metadata": {},
   "outputs": [],
   "source": [
    "cartes=[]\n",
    "for color in Couleurs:\n",
    "    for val in valeurs:\n",
    "        cartes.append(str(val)+\" de \"+color)\n",
    "        "
   ]
  },
  {
   "cell_type": "code",
   "execution_count": 317,
   "metadata": {},
   "outputs": [
    {
     "name": "stdout",
     "output_type": "stream",
     "text": [
      "['2 de Pique', '3 de Pique', '4 de Pique', '5 de Pique', '6 de Pique', '7 de Pique', '8 de Pique', '9 de Pique', '10 de Pique', 'valet de Pique', 'dame de Pique', 'roi de Pique', 'as de Pique', '2 de Trefle', '3 de Trefle', '4 de Trefle', '5 de Trefle', '6 de Trefle', '7 de Trefle', '8 de Trefle', '9 de Trefle', '10 de Trefle', 'valet de Trefle', 'dame de Trefle', 'roi de Trefle', 'as de Trefle', '2 de Carreau', '3 de Carreau', '4 de Carreau', '5 de Carreau', '6 de Carreau', '7 de Carreau', '8 de Carreau', '9 de Carreau', '10 de Carreau', 'valet de Carreau', 'dame de Carreau', 'roi de Carreau', 'as de Carreau', '2 de Coeur', '3 de Coeur', '4 de Coeur', '5 de Coeur', '6 de Coeur', '7 de Coeur', '8 de Coeur', '9 de Coeur', '10 de Coeur', 'valet de Coeur', 'dame de Coeur', 'roi de Coeur', 'as de Coeur']\n"
     ]
    }
   ],
   "source": [
    "len(cartes)\n",
    "print(cartes)"
   ]
  },
  {
   "cell_type": "code",
   "execution_count": 318,
   "metadata": {},
   "outputs": [],
   "source": [
    "from random import shuffle"
   ]
  },
  {
   "cell_type": "code",
   "execution_count": 319,
   "metadata": {},
   "outputs": [],
   "source": [
    "shuffle(cartes)"
   ]
  },
  {
   "cell_type": "code",
   "execution_count": 320,
   "metadata": {},
   "outputs": [
    {
     "name": "stdout",
     "output_type": "stream",
     "text": [
      "['6 de Trefle', '5 de Trefle', 'dame de Coeur', '4 de Pique', 'as de Carreau', '6 de Pique', 'valet de Pique', 'valet de Carreau', '10 de Trefle', '6 de Carreau', '3 de Pique', '2 de Trefle', '7 de Pique', 'valet de Trefle', '5 de Carreau', '3 de Carreau', 'as de Coeur', '5 de Coeur', 'as de Pique', '8 de Carreau', '8 de Trefle', 'valet de Coeur', '10 de Carreau', '2 de Coeur', '4 de Coeur', '2 de Pique', '3 de Trefle', '4 de Carreau', '7 de Carreau', '2 de Carreau', '10 de Coeur', 'roi de Coeur', '8 de Coeur', '9 de Pique', 'dame de Carreau', '7 de Trefle', '5 de Pique', 'roi de Pique', '9 de Trefle', '9 de Coeur', 'dame de Trefle', '3 de Coeur', 'roi de Trefle', 'roi de Carreau', 'as de Trefle', '6 de Coeur', '9 de Carreau', '8 de Pique', '7 de Coeur', '4 de Trefle', 'dame de Pique', '10 de Pique']\n"
     ]
    }
   ],
   "source": [
    "print(cartes)"
   ]
  },
  {
   "cell_type": "code",
   "execution_count": 335,
   "metadata": {},
   "outputs": [],
   "source": [
    "joueur1=[]\n",
    "joueur2=[]\n",
    "joueur3=[]\n",
    "joueur4=[]\n",
    "for crt in cartes:\n",
    "    if cartes.index(crt)%4==0:\n",
    "        joueur1.append(crt)\n",
    "    elif cartes.index(crt)%4==1:\n",
    "        joueur2.append(crt)\n",
    "    elif cartes.index(crt)%4==2:\n",
    "        joueur3.append(crt)\n",
    "    elif cartes.index(crt)%4==3:\n",
    "        joueur4.append(crt)"
   ]
  },
  {
   "cell_type": "code",
   "execution_count": 338,
   "metadata": {},
   "outputs": [
    {
     "name": "stdout",
     "output_type": "stream",
     "text": [
      "joueur1 : ['6 de Trefle', 'as de Carreau', '10 de Trefle', '7 de Pique', 'as de Coeur', '8 de Trefle', '4 de Coeur', '7 de Carreau', '8 de Coeur', '5 de Pique', 'dame de Trefle', 'as de Trefle', '7 de Coeur']\n",
      "\n",
      "joueur2 : ['5 de Trefle', '6 de Pique', '6 de Carreau', 'valet de Trefle', '5 de Coeur', 'valet de Coeur', '2 de Pique', '2 de Carreau', '9 de Pique', 'roi de Pique', '3 de Coeur', '6 de Coeur', '4 de Trefle']\n",
      "\n",
      "joueur3 : ['dame de Coeur', 'valet de Pique', '3 de Pique', '5 de Carreau', 'as de Pique', '10 de Carreau', '3 de Trefle', '10 de Coeur', 'dame de Carreau', '9 de Trefle', 'roi de Trefle', '9 de Carreau', 'dame de Pique']\n",
      "\n",
      "joueur4 : ['4 de Pique', 'valet de Carreau', '2 de Trefle', '3 de Carreau', '8 de Carreau', '2 de Coeur', '4 de Carreau', 'roi de Coeur', '7 de Trefle', '9 de Coeur', 'roi de Carreau', '8 de Pique', '10 de Pique']\n"
     ]
    }
   ],
   "source": [
    "print(\"joueur1 :\",joueur1)\n",
    "print(\"\\njoueur2 :\",joueur2)\n",
    "print(\"\\njoueur3 :\",joueur3)\n",
    "print(\"\\njoueur4 :\",joueur4)"
   ]
  },
  {
   "cell_type": "code",
   "execution_count": null,
   "metadata": {},
   "outputs": [],
   "source": []
  }
 ],
 "metadata": {
  "kernelspec": {
   "display_name": "Python 3",
   "language": "python",
   "name": "python3"
  },
  "language_info": {
   "codemirror_mode": {
    "name": "ipython",
    "version": 3
   },
   "file_extension": ".py",
   "mimetype": "text/x-python",
   "name": "python",
   "nbconvert_exporter": "python",
   "pygments_lexer": "ipython3",
   "version": "3.8.6"
  }
 },
 "nbformat": 4,
 "nbformat_minor": 4
}
